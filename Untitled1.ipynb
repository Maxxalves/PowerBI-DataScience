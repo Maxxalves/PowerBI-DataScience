{
  "nbformat": 4,
  "nbformat_minor": 0,
  "metadata": {
    "colab": {
      "provenance": [],
      "authorship_tag": "ABX9TyOVPsSeuovTWA0XOCaDE6CW",
      "include_colab_link": true
    },
    "kernelspec": {
      "name": "python3",
      "display_name": "Python 3"
    },
    "language_info": {
      "name": "python"
    }
  },
  "cells": [
    {
      "cell_type": "markdown",
      "metadata": {
        "id": "view-in-github",
        "colab_type": "text"
      },
      "source": [
        "<a href=\"https://colab.research.google.com/github/Maxxalves/PowerBI-DataScience/blob/master/Untitled1.ipynb\" target=\"_parent\"><img src=\"https://colab.research.google.com/assets/colab-badge.svg\" alt=\"Open In Colab\"/></a>"
      ]
    },
    {
      "cell_type": "code",
      "execution_count": null,
      "metadata": {
        "id": "U2PhaujYQS9v"
      },
      "outputs": [],
      "source": [
        "'''\n",
        "Em Python, as tuplas são uma estrutura de dados semelhante a listas, que permite armazenar uma coleção de itens. No entanto, ao contrário das listas, as tuplas são imutáveis, ou seja, você não pode adicionar, remover ou alterar elementos depois de criar a tupla. Algumas das principais características e usos das tuplas em Python incluem:\n",
        "'''"
      ]
    },
    {
      "cell_type": "code",
      "source": [
        "# criando uma tupla\n",
        "minha_tupla = (1, 2, 3, 4, 5)\n"
      ],
      "metadata": {
        "id": "HNIcDj52QpAL"
      },
      "execution_count": 29,
      "outputs": []
    },
    {
      "cell_type": "code",
      "source": [
        "# acessando o primeiro elemento\n",
        "print(minha_tupla[0]) "
      ],
      "metadata": {
        "colab": {
          "base_uri": "https://localhost:8080/"
        },
        "id": "ky-Gf1-mQpCe",
        "outputId": "394e9261-f569-4109-a617-e5dd815ff8ed"
      },
      "execution_count": 32,
      "outputs": [
        {
          "output_type": "stream",
          "name": "stdout",
          "text": [
            "1\n"
          ]
        }
      ]
    },
    {
      "cell_type": "code",
      "source": [
        "# acessando o último elemento\n",
        "print(minha_tupla[4]) "
      ],
      "metadata": {
        "colab": {
          "base_uri": "https://localhost:8080/"
        },
        "id": "oyvuzMz9QpEY",
        "outputId": "2537ccdd-d18e-40af-9665-23c5ef11f049"
      },
      "execution_count": 37,
      "outputs": [
        {
          "output_type": "stream",
          "name": "stdout",
          "text": [
            "5\n"
          ]
        }
      ]
    },
    {
      "cell_type": "code",
      "source": [
        "# acessando um elemento específico\n",
        "print(minha_tupla[2]) "
      ],
      "metadata": {
        "colab": {
          "base_uri": "https://localhost:8080/"
        },
        "id": "qwpAKxhLQpHG",
        "outputId": "e0e2c369-9252-47ab-8c06-fd9f951c0b7f"
      },
      "execution_count": 8,
      "outputs": [
        {
          "output_type": "stream",
          "name": "stdout",
          "text": [
            "3\n"
          ]
        }
      ]
    },
    {
      "cell_type": "code",
      "source": [
        "# tentando alterar um elemento da tupla (gera erro, pois as tuplas são imutáveis)\n",
        "minha_tupla[0] = 100"
      ],
      "metadata": {
        "colab": {
          "base_uri": "https://localhost:8080/",
          "height": 190
        },
        "id": "909UEqvYY5Sd",
        "outputId": "b5682741-1b96-497d-a9bf-ca8016ab8773"
      },
      "execution_count": 9,
      "outputs": [
        {
          "output_type": "error",
          "ename": "TypeError",
          "evalue": "ignored",
          "traceback": [
            "\u001b[0;31m---------------------------------------------------------------------------\u001b[0m",
            "\u001b[0;31mTypeError\u001b[0m                                 Traceback (most recent call last)",
            "\u001b[0;32m<ipython-input-9-19673adf48ac>\u001b[0m in \u001b[0;36m<module>\u001b[0;34m\u001b[0m\n\u001b[1;32m      1\u001b[0m \u001b[0;31m# tentando alterar um elemento da tupla (gera erro, pois as tuplas são imutáveis)\u001b[0m\u001b[0;34m\u001b[0m\u001b[0;34m\u001b[0m\u001b[0;34m\u001b[0m\u001b[0m\n\u001b[0;32m----> 2\u001b[0;31m \u001b[0mminha_tupla\u001b[0m\u001b[0;34m[\u001b[0m\u001b[0;36m0\u001b[0m\u001b[0;34m]\u001b[0m \u001b[0;34m=\u001b[0m \u001b[0;36m100\u001b[0m\u001b[0;34m\u001b[0m\u001b[0;34m\u001b[0m\u001b[0m\n\u001b[0m",
            "\u001b[0;31mTypeError\u001b[0m: 'tuple' object does not support item assignment"
          ]
        }
      ]
    },
    {
      "cell_type": "code",
      "source": [
        "\n"
      ],
      "metadata": {
        "id": "zSujKtrGY5Uf"
      },
      "execution_count": null,
      "outputs": []
    },
    {
      "cell_type": "code",
      "source": [
        "# criando uma lista de números\n",
        "numeros = [1, 2, 3, 4, 5]"
      ],
      "metadata": {
        "id": "8Jz-DIjuY5Wm"
      },
      "execution_count": 10,
      "outputs": []
    },
    {
      "cell_type": "code",
      "source": [
        "# criando uma lista de strings\n",
        "palavras = [\"olá\", \"mundo\", \"python\"]"
      ],
      "metadata": {
        "id": "YdHXjXMXY5Zm"
      },
      "execution_count": 11,
      "outputs": []
    },
    {
      "cell_type": "code",
      "source": [],
      "metadata": {
        "id": "RjLiFKRPQpJT"
      },
      "execution_count": null,
      "outputs": []
    },
    {
      "cell_type": "code",
      "source": [
        "'''\n",
        "Indexação e fatiamento: Você pode acessar elementos individuais em uma lista usando índices, e também pode fazer fatias para selecionar uma faixa de elementos. \n",
        "'''"
      ],
      "metadata": {
        "id": "w83ljwErQpL3"
      },
      "execution_count": null,
      "outputs": []
    },
    {
      "cell_type": "markdown",
      "source": [],
      "metadata": {
        "id": "2ICNwmo9a4Rg"
      }
    },
    {
      "cell_type": "code",
      "source": [
        "# acessando o primeiro elemento\n",
        "print(numeros[0]) "
      ],
      "metadata": {
        "colab": {
          "base_uri": "https://localhost:8080/"
        },
        "id": "QJnCJcNqQpO4",
        "outputId": "5f7e3b1d-f32e-4bb3-a26e-6950dbc9aed3"
      },
      "execution_count": 12,
      "outputs": [
        {
          "output_type": "stream",
          "name": "stdout",
          "text": [
            "1\n"
          ]
        }
      ]
    },
    {
      "cell_type": "code",
      "source": [
        "# acessando o último elemento\n",
        "print(numeros[4]) \n"
      ],
      "metadata": {
        "colab": {
          "base_uri": "https://localhost:8080/"
        },
        "id": "QrpZnzL2a-bu",
        "outputId": "fa3a77f0-363c-4b29-ddf7-7041965b5f1b"
      },
      "execution_count": 40,
      "outputs": [
        {
          "output_type": "stream",
          "name": "stdout",
          "text": [
            "6\n"
          ]
        }
      ]
    },
    {
      "cell_type": "code",
      "source": [
        "# fazendo uma fatia da lista\n",
        "print(numeros[1:3]) "
      ],
      "metadata": {
        "colab": {
          "base_uri": "https://localhost:8080/"
        },
        "id": "I99v_Ueda-d1",
        "outputId": "853a2478-8493-413a-8e54-f9c2486e1ebf"
      },
      "execution_count": 41,
      "outputs": [
        {
          "output_type": "stream",
          "name": "stdout",
          "text": [
            "[3, 4]\n"
          ]
        }
      ]
    },
    {
      "cell_type": "code",
      "source": [
        "'''\n",
        "Adição e remoção de elementos: Você pode adicionar novos elementos a uma lista usando o método append() ou ao concatenar listas com o operador +. Também é possível remover elementos de uma lista usando a função remove() ou a instrução del.\n",
        "'''\n"
      ],
      "metadata": {
        "colab": {
          "base_uri": "https://localhost:8080/",
          "height": 54
        },
        "id": "zwBej9xSa-gG",
        "outputId": "92c35cf8-b639-400c-8ccf-fd4b4fb33794"
      },
      "execution_count": 45,
      "outputs": [
        {
          "output_type": "execute_result",
          "data": {
            "text/plain": [
              "'\\nAdição e remoção de elementos: Você pode adicionar novos elementos a uma lista usando o método append() ou ao concatenar listas com o operador +. Também é possível remover elementos de uma lista usando a função remove() ou a instrução del.\\n'"
            ],
            "application/vnd.google.colaboratory.intrinsic+json": {
              "type": "string"
            }
          },
          "metadata": {},
          "execution_count": 45
        }
      ]
    },
    {
      "cell_type": "code",
      "source": [
        "# removendo elementos de uma lista\n",
        "numeros.remove(8)"
      ],
      "metadata": {
        "id": "3KTspKoCa-m8"
      },
      "execution_count": 58,
      "outputs": []
    },
    {
      "cell_type": "code",
      "source": [
        "print(numeros) "
      ],
      "metadata": {
        "colab": {
          "base_uri": "https://localhost:8080/"
        },
        "id": "qoQu2UQxa-pe",
        "outputId": "91cbefa5-5501-469f-f21a-0e44a3b855bd"
      },
      "execution_count": 19,
      "outputs": [
        {
          "output_type": "stream",
          "name": "stdout",
          "text": [
            "[1, 3, 4, 5, 6]\n"
          ]
        }
      ]
    },
    {
      "cell_type": "code",
      "source": [
        "''' Iteração: Você pode iterar sobre elementos de uma lista usando um laço for.'''"
      ],
      "metadata": {
        "id": "1gy0Jk3Za-rz"
      },
      "execution_count": null,
      "outputs": []
    },
    {
      "cell_type": "code",
      "source": [
        "# iterando sobre elementos de uma lista\n",
        "for numero in numeros: \n",
        "  print(numero)\n"
      ],
      "metadata": {
        "colab": {
          "base_uri": "https://localhost:8080/"
        },
        "id": "KozyJM27QpTk",
        "outputId": "91d11373-160e-470e-a258-f129f75c1aa5"
      },
      "execution_count": 21,
      "outputs": [
        {
          "output_type": "stream",
          "name": "stdout",
          "text": [
            "1\n",
            "3\n",
            "4\n",
            "5\n",
            "6\n"
          ]
        }
      ]
    },
    {
      "cell_type": "code",
      "source": [
        "''' Armazenamento de dados: Os dicionários são usados para armazenar dados relacionados, como informações de contato de uma pessoa, preços de produtos, etc.'''"
      ],
      "metadata": {
        "id": "j2fuUgvPQpX-"
      },
      "execution_count": null,
      "outputs": []
    },
    {
      "cell_type": "code",
      "source": [
        "# criando um dicionário\n",
        "pessoa = {\"nome\": \"João\", \"idade\": 30, \"cidade\": \"São Paulo\"}"
      ],
      "metadata": {
        "id": "dl2qjmU1dKHt"
      },
      "execution_count": 22,
      "outputs": []
    },
    {
      "cell_type": "code",
      "source": [
        "# acessando um valor pela sua chave\n",
        "print(pessoa[\"nome\"],[\"idade\"], ['cidade']) \n"
      ],
      "metadata": {
        "colab": {
          "base_uri": "https://localhost:8080/"
        },
        "id": "giu4aaI-dKKG",
        "outputId": "e23aaa5c-0ce5-474e-8ea2-30a288ea8fa1"
      },
      "execution_count": 77,
      "outputs": [
        {
          "output_type": "stream",
          "name": "stdout",
          "text": [
            "João ['idade'] ['cidade']\n"
          ]
        }
      ]
    },
    {
      "cell_type": "code",
      "source": [
        "''' Adição e remoção de elementos: Você pode adicionar novos elementos a um dicionário atribuindo valores a novas chaves, ou alterar o valor de uma chave existente. Também é possível remover elementos de um dicionário usando o método pop().'''"
      ],
      "metadata": {
        "id": "1rGdhP1ydKM1"
      },
      "execution_count": null,
      "outputs": []
    },
    {
      "cell_type": "code",
      "source": [
        "# adicionando elementos ao dicionário\n",
        "pessoa[\"telefone\"] = \"1234-5678\"\n",
        "print(pessoa) "
      ],
      "metadata": {
        "colab": {
          "base_uri": "https://localhost:8080/"
        },
        "id": "owcr48AXdKPJ",
        "outputId": "4c90c702-2bda-4ccf-a7f1-ecd34ac0a2b2"
      },
      "execution_count": 24,
      "outputs": [
        {
          "output_type": "stream",
          "name": "stdout",
          "text": [
            "{'nome': 'João', 'idade': 30, 'cidade': 'São Paulo', 'telefone': '1234-5678'}\n"
          ]
        }
      ]
    },
    {
      "cell_type": "code",
      "source": [
        "# removendo elementos de um dicionário\n",
        "pessoa.pop(\"idade\")\n",
        "print(pessoa) "
      ],
      "metadata": {
        "colab": {
          "base_uri": "https://localhost:8080/"
        },
        "id": "6dn-Ij-WdKRN",
        "outputId": "de876445-4cd5-4da2-a0f7-a07fc236f641"
      },
      "execution_count": 25,
      "outputs": [
        {
          "output_type": "stream",
          "name": "stdout",
          "text": [
            "{'nome': 'João', 'cidade': 'São Paulo', 'telefone': '1234-5678'}\n"
          ]
        }
      ]
    },
    {
      "cell_type": "code",
      "source": [
        "''' Iteração: Você pode iterar sobre as chaves ou valores de um dicionário usando os métodos keys() e values()'''"
      ],
      "metadata": {
        "id": "sp1Yy4G1dKTr"
      },
      "execution_count": null,
      "outputs": []
    },
    {
      "cell_type": "code",
      "source": [
        "# iterando sobre as chaves de um dicionário\n",
        "for chave in pessoa.keys():\n",
        "  print(chave)\n"
      ],
      "metadata": {
        "colab": {
          "base_uri": "https://localhost:8080/"
        },
        "id": "77iHMUEpdKWm",
        "outputId": "2b133b62-061d-400d-f963-dc51ea948474"
      },
      "execution_count": 27,
      "outputs": [
        {
          "output_type": "stream",
          "name": "stdout",
          "text": [
            "nome\n",
            "cidade\n",
            "telefone\n"
          ]
        }
      ]
    },
    {
      "cell_type": "code",
      "source": [
        "# iterando sobre os valores de um dicionário"
      ],
      "metadata": {
        "id": "R5ADjOeVdKZw"
      },
      "execution_count": null,
      "outputs": []
    },
    {
      "cell_type": "code",
      "source": [
        "for valor in pessoa.values():\n",
        "    print(valor)\n",
        " "
      ],
      "metadata": {
        "colab": {
          "base_uri": "https://localhost:8080/"
        },
        "id": "gR-RFvx8dKcT",
        "outputId": "b9a9262d-d952-44ca-b711-5472c66c59d6"
      },
      "execution_count": 28,
      "outputs": [
        {
          "output_type": "stream",
          "name": "stdout",
          "text": [
            "João\n",
            "São Paulo\n",
            "1234-5678\n"
          ]
        }
      ]
    },
    {
      "cell_type": "code",
      "source": [],
      "metadata": {
        "id": "vespnzHYQpaf"
      },
      "execution_count": null,
      "outputs": []
    },
    {
      "cell_type": "code",
      "source": [],
      "metadata": {
        "id": "1yfImcTO5fa9"
      },
      "execution_count": null,
      "outputs": []
    },
    {
      "cell_type": "code",
      "source": [
        "# NOMEANDO VARIAVEIS \n",
        "# 1 DECLARAR VARIVEIS EM UMA UNICA LINHA DE CODIGO\n",
        "# 2 ABRIR UM VALOR A DIVERSAS VARIAVEIS\n",
        "# 3 DECLARAR USANDO UMA LISTA\n",
        "# 4 COMBINAR VARIAVEIS\n",
        "# 5 OPERAR COM OPERADORES MATEMATICOS\n",
        "# 6 MUITOS OUTROS\n"
      ],
      "metadata": {
        "id": "s6V_GzkX5fdd"
      },
      "execution_count": 1,
      "outputs": []
    },
    {
      "cell_type": "code",
      "source": [
        "# DECLARAR VARIVEIS EM UMA UNICA LINHA DE CODIGO"
      ],
      "metadata": {
        "id": "10TFhhJX5fgI"
      },
      "execution_count": 2,
      "outputs": []
    },
    {
      "cell_type": "code",
      "source": [
        " Laranja,Melão, Limão = 1,2,3"
      ],
      "metadata": {
        "id": "RF1b0N995fi1"
      },
      "execution_count": 3,
      "outputs": []
    },
    {
      "cell_type": "code",
      "source": [
        "print(Laranja,Melão, Limão)"
      ],
      "metadata": {
        "colab": {
          "base_uri": "https://localhost:8080/"
        },
        "id": "w2vQtymu5flf",
        "outputId": "76c8272a-441f-4797-b599-57926251530b"
      },
      "execution_count": 4,
      "outputs": [
        {
          "output_type": "stream",
          "name": "stdout",
          "text": [
            "1 2 3\n"
          ]
        }
      ]
    },
    {
      "cell_type": "code",
      "source": [
        " Morango = Uva = Kiwi = 1000\n",
        " "
      ],
      "metadata": {
        "id": "iSgH07pd5foF"
      },
      "execution_count": 8,
      "outputs": []
    },
    {
      "cell_type": "code",
      "source": [
        "print(Morango, Uva, Kiwi)"
      ],
      "metadata": {
        "colab": {
          "base_uri": "https://localhost:8080/"
        },
        "id": "xQY-E2uS5fqx",
        "outputId": "5a679f24-f50a-4df5-a65c-f7dda8239825"
      },
      "execution_count": 10,
      "outputs": [
        {
          "output_type": "stream",
          "name": "stdout",
          "text": [
            "(1000, 500, 200) (1000, 500, 200) (1000, 500, 200)\n"
          ]
        }
      ]
    },
    {
      "cell_type": "code",
      "source": [],
      "metadata": {
        "id": "4VJveCss5fth"
      },
      "execution_count": null,
      "outputs": []
    },
    {
      "cell_type": "code",
      "source": [
        "# Nomear comistas"
      ],
      "metadata": {
        "id": "d6gFQ9gr5fv6"
      },
      "execution_count": 11,
      "outputs": []
    },
    {
      "cell_type": "code",
      "source": [
        "lista_carros = ['bmw', 'audi', 'tesla']"
      ],
      "metadata": {
        "id": "2fbkLlMV5fyd"
      },
      "execution_count": 12,
      "outputs": []
    },
    {
      "cell_type": "code",
      "source": [
        "marca_01, marca_02, marca_03 = lista_carros"
      ],
      "metadata": {
        "id": "SJt0l8of5f1M"
      },
      "execution_count": 13,
      "outputs": []
    },
    {
      "cell_type": "code",
      "source": [
        "print(marca_01, marca_02, marca_03)"
      ],
      "metadata": {
        "colab": {
          "base_uri": "https://localhost:8080/"
        },
        "id": "BEJcYf0m5f4R",
        "outputId": "38ce5dab-e75b-4856-e1e6-214c9e95a498"
      },
      "execution_count": 14,
      "outputs": [
        {
          "output_type": "stream",
          "name": "stdout",
          "text": [
            "bmw audi tesla\n"
          ]
        }
      ]
    },
    {
      "cell_type": "code",
      "source": [
        "# combinar variaveis"
      ],
      "metadata": {
        "id": "MKERMZf25f7T"
      },
      "execution_count": 15,
      "outputs": []
    },
    {
      "cell_type": "code",
      "source": [
        " nome = 'Max'\n",
        " sobrenome = 'Alves'\n",
        " nome_completo = nome +' '+ sobrenome\n",
        " print(nome_completo)"
      ],
      "metadata": {
        "colab": {
          "base_uri": "https://localhost:8080/"
        },
        "id": "kbz0vDYv5f-d",
        "outputId": "3955b0c1-367f-434e-aa7b-a520abc89e7d"
      },
      "execution_count": 22,
      "outputs": [
        {
          "output_type": "stream",
          "name": "stdout",
          "text": [
            "Max Alves\n"
          ]
        }
      ]
    },
    {
      "cell_type": "code",
      "source": [],
      "metadata": {
        "id": "CCnHFDbs5gAG"
      },
      "execution_count": null,
      "outputs": []
    },
    {
      "cell_type": "code",
      "source": [
        "# experimento\n",
        "\n",
        "nome = 'Max'\n",
        "idade = 45\n",
        "nome_mais_idade = nome, + 45\n",
        "print(nome_mais_idade)"
      ],
      "metadata": {
        "colab": {
          "base_uri": "https://localhost:8080/"
        },
        "id": "0m3RBT8Q5gC4",
        "outputId": "463043d4-fa80-4f9e-bf03-54d6419be728"
      },
      "execution_count": 24,
      "outputs": [
        {
          "output_type": "stream",
          "name": "stdout",
          "text": [
            "('Max', 45)\n"
          ]
        }
      ]
    },
    {
      "cell_type": "code",
      "source": [
        "# Outro jeito é\n",
        "\n",
        "nome = ('max_esta_com')\n",
        "idade = str(45) \n",
        "print(nome +' '+ idade)\n"
      ],
      "metadata": {
        "colab": {
          "base_uri": "https://localhost:8080/"
        },
        "id": "GiyZlZrf5gFc",
        "outputId": "ccb17690-b461-4c9a-e506-a1b6df3a8784"
      },
      "execution_count": 35,
      "outputs": [
        {
          "output_type": "stream",
          "name": "stdout",
          "text": [
            "max_esta_com 45\n"
          ]
        }
      ]
    },
    {
      "cell_type": "code",
      "source": [],
      "metadata": {
        "id": "Fm6upuY35gIP"
      },
      "execution_count": null,
      "outputs": []
    },
    {
      "cell_type": "code",
      "source": [
        "investimento = 1000\n",
        "taxa_juros = float('0.2')\n",
        "print(investimento * taxa_juros)\n",
        "valor_ganhado = (investimento * taxa_juros) + investimento\n",
        "print(valor_ganhado)"
      ],
      "metadata": {
        "colab": {
          "base_uri": "https://localhost:8080/"
        },
        "id": "g2P-gsQRDCww",
        "outputId": "1801b9dc-9c21-41fa-eb6a-052b346e97ae"
      },
      "execution_count": 41,
      "outputs": [
        {
          "output_type": "stream",
          "name": "stdout",
          "text": [
            "200.0\n",
            "1200.0\n"
          ]
        }
      ]
    },
    {
      "cell_type": "code",
      "source": [],
      "metadata": {
        "id": "ZFTcEP3ZDCzq"
      },
      "execution_count": null,
      "outputs": []
    },
    {
      "cell_type": "code",
      "source": [],
      "metadata": {
        "id": "DMpCpqjCDC22"
      },
      "execution_count": null,
      "outputs": []
    },
    {
      "cell_type": "code",
      "source": [],
      "metadata": {
        "id": "o7dRvQ3jDC51"
      },
      "execution_count": null,
      "outputs": []
    },
    {
      "cell_type": "code",
      "source": [],
      "metadata": {
        "id": "zhq3OT6WDC8h"
      },
      "execution_count": null,
      "outputs": []
    },
    {
      "cell_type": "code",
      "source": [],
      "metadata": {
        "id": "TmhEJFxdDDBo"
      },
      "execution_count": null,
      "outputs": []
    },
    {
      "cell_type": "code",
      "source": [],
      "metadata": {
        "id": "kuPoMvhh5gLF"
      },
      "execution_count": null,
      "outputs": []
    }
  ]
}