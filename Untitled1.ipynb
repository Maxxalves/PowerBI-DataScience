{
  "nbformat": 4,
  "nbformat_minor": 0,
  "metadata": {
    "colab": {
      "provenance": [],
      "authorship_tag": "ABX9TyNrB3VSJboC9FY70L6M4Azu",
      "include_colab_link": true
    },
    "kernelspec": {
      "name": "python3",
      "display_name": "Python 3"
    },
    "language_info": {
      "name": "python"
    }
  },
  "cells": [
    {
      "cell_type": "markdown",
      "metadata": {
        "id": "view-in-github",
        "colab_type": "text"
      },
      "source": [
        "<a href=\"https://colab.research.google.com/github/Maxxalves/PowerBI-DataScience/blob/master/Untitled1.ipynb\" target=\"_parent\"><img src=\"https://colab.research.google.com/assets/colab-badge.svg\" alt=\"Open In Colab\"/></a>"
      ]
    },
    {
      "cell_type": "code",
      "execution_count": null,
      "metadata": {
        "id": "U2PhaujYQS9v"
      },
      "outputs": [],
      "source": [
        "'''\n",
        "Em Python, as tuplas são uma estrutura de dados semelhante a listas, que permite armazenar uma coleção de itens. No entanto, ao contrário das listas, as tuplas são imutáveis, ou seja, você não pode adicionar, remover ou alterar elementos depois de criar a tupla. Algumas das principais características e usos das tuplas em Python incluem:\n",
        "'''"
      ]
    },
    {
      "cell_type": "code",
      "source": [
        "# criando uma tupla\n",
        "minha_tupla = (1, 2, 3, 4, 5)\n"
      ],
      "metadata": {
        "id": "HNIcDj52QpAL"
      },
      "execution_count": 5,
      "outputs": []
    },
    {
      "cell_type": "code",
      "source": [
        "# acessando o primeiro elemento\n",
        "print(minha_tupla[0]) # output: 1"
      ],
      "metadata": {
        "colab": {
          "base_uri": "https://localhost:8080/"
        },
        "id": "ky-Gf1-mQpCe",
        "outputId": "79645ce0-1255-411f-ee4b-ebeb1ea04832"
      },
      "execution_count": 6,
      "outputs": [
        {
          "output_type": "stream",
          "name": "stdout",
          "text": [
            "1\n"
          ]
        }
      ]
    },
    {
      "cell_type": "code",
      "source": [
        "# acessando o último elemento\n",
        "print(minha_tupla[-1]) # output: 5"
      ],
      "metadata": {
        "colab": {
          "base_uri": "https://localhost:8080/"
        },
        "id": "oyvuzMz9QpEY",
        "outputId": "b1e5f177-0738-41ae-d3bf-57f3bf336374"
      },
      "execution_count": 7,
      "outputs": [
        {
          "output_type": "stream",
          "name": "stdout",
          "text": [
            "5\n"
          ]
        }
      ]
    },
    {
      "cell_type": "code",
      "source": [
        "# acessando um elemento específico\n",
        "print(minha_tupla[2]) # output: 3"
      ],
      "metadata": {
        "colab": {
          "base_uri": "https://localhost:8080/"
        },
        "id": "qwpAKxhLQpHG",
        "outputId": "e0e2c369-9252-47ab-8c06-fd9f951c0b7f"
      },
      "execution_count": 8,
      "outputs": [
        {
          "output_type": "stream",
          "name": "stdout",
          "text": [
            "3\n"
          ]
        }
      ]
    },
    {
      "cell_type": "code",
      "source": [
        "# tentando alterar um elemento da tupla (gera erro, pois as tuplas são imutáveis)\n",
        "minha_tupla[0] = 100"
      ],
      "metadata": {
        "colab": {
          "base_uri": "https://localhost:8080/",
          "height": 190
        },
        "id": "909UEqvYY5Sd",
        "outputId": "b5682741-1b96-497d-a9bf-ca8016ab8773"
      },
      "execution_count": 9,
      "outputs": [
        {
          "output_type": "error",
          "ename": "TypeError",
          "evalue": "ignored",
          "traceback": [
            "\u001b[0;31m---------------------------------------------------------------------------\u001b[0m",
            "\u001b[0;31mTypeError\u001b[0m                                 Traceback (most recent call last)",
            "\u001b[0;32m<ipython-input-9-19673adf48ac>\u001b[0m in \u001b[0;36m<module>\u001b[0;34m\u001b[0m\n\u001b[1;32m      1\u001b[0m \u001b[0;31m# tentando alterar um elemento da tupla (gera erro, pois as tuplas são imutáveis)\u001b[0m\u001b[0;34m\u001b[0m\u001b[0;34m\u001b[0m\u001b[0;34m\u001b[0m\u001b[0m\n\u001b[0;32m----> 2\u001b[0;31m \u001b[0mminha_tupla\u001b[0m\u001b[0;34m[\u001b[0m\u001b[0;36m0\u001b[0m\u001b[0;34m]\u001b[0m \u001b[0;34m=\u001b[0m \u001b[0;36m100\u001b[0m\u001b[0;34m\u001b[0m\u001b[0;34m\u001b[0m\u001b[0m\n\u001b[0m",
            "\u001b[0;31mTypeError\u001b[0m: 'tuple' object does not support item assignment"
          ]
        }
      ]
    },
    {
      "cell_type": "code",
      "source": [
        "\n"
      ],
      "metadata": {
        "id": "zSujKtrGY5Uf"
      },
      "execution_count": null,
      "outputs": []
    },
    {
      "cell_type": "code",
      "source": [
        "# criando uma lista de números\n",
        "numeros = [1, 2, 3, 4, 5]"
      ],
      "metadata": {
        "id": "8Jz-DIjuY5Wm"
      },
      "execution_count": 10,
      "outputs": []
    },
    {
      "cell_type": "code",
      "source": [
        "# criando uma lista de strings\n",
        "palavras = [\"olá\", \"mundo\", \"python\"]"
      ],
      "metadata": {
        "id": "YdHXjXMXY5Zm"
      },
      "execution_count": 11,
      "outputs": []
    },
    {
      "cell_type": "code",
      "source": [],
      "metadata": {
        "id": "RjLiFKRPQpJT"
      },
      "execution_count": null,
      "outputs": []
    },
    {
      "cell_type": "code",
      "source": [
        "'''\n",
        "Indexação e fatiamento: Você pode acessar elementos individuais em uma lista usando índices, e também pode fazer fatias para selecionar uma faixa de elementos. \n",
        "'''"
      ],
      "metadata": {
        "id": "w83ljwErQpL3"
      },
      "execution_count": null,
      "outputs": []
    },
    {
      "cell_type": "markdown",
      "source": [],
      "metadata": {
        "id": "2ICNwmo9a4Rg"
      }
    },
    {
      "cell_type": "code",
      "source": [
        "# acessando o primeiro elemento\n",
        "print(numeros[0]) # output: 1"
      ],
      "metadata": {
        "colab": {
          "base_uri": "https://localhost:8080/"
        },
        "id": "QJnCJcNqQpO4",
        "outputId": "5f7e3b1d-f32e-4bb3-a26e-6950dbc9aed3"
      },
      "execution_count": 12,
      "outputs": [
        {
          "output_type": "stream",
          "name": "stdout",
          "text": [
            "1\n"
          ]
        }
      ]
    },
    {
      "cell_type": "code",
      "source": [
        "# acessando o último elemento\n",
        "print(numeros[-1]) # output: 5\n"
      ],
      "metadata": {
        "colab": {
          "base_uri": "https://localhost:8080/"
        },
        "id": "QrpZnzL2a-bu",
        "outputId": "692dfd05-e7d4-44d2-d595-edf25793614c"
      },
      "execution_count": 14,
      "outputs": [
        {
          "output_type": "stream",
          "name": "stdout",
          "text": [
            "5\n"
          ]
        }
      ]
    },
    {
      "cell_type": "code",
      "source": [
        "# fazendo uma fatia da lista\n",
        "print(numeros[1:3]) # output: [2, 3]"
      ],
      "metadata": {
        "colab": {
          "base_uri": "https://localhost:8080/"
        },
        "id": "I99v_Ueda-d1",
        "outputId": "6ec4a857-84fc-46c3-83a5-76bb3def466b"
      },
      "execution_count": 15,
      "outputs": [
        {
          "output_type": "stream",
          "name": "stdout",
          "text": [
            "[2, 3]\n"
          ]
        }
      ]
    },
    {
      "cell_type": "code",
      "source": [
        "'''\n",
        "Adição e remoção de elementos: Você pode adicionar novos elementos a uma lista usando o método append() ou ao concatenar listas com o operador +. Também é possível remover elementos de uma lista usando a função remove() ou a instrução del.\n",
        "'''"
      ],
      "metadata": {
        "id": "zwBej9xSa-gG"
      },
      "execution_count": null,
      "outputs": []
    },
    {
      "cell_type": "code",
      "source": [
        "# adicionando elementos a uma lista\n",
        "numeros.append(6)"
      ],
      "metadata": {
        "id": "Qi2u9WqFa-iR"
      },
      "execution_count": 16,
      "outputs": []
    },
    {
      "cell_type": "code",
      "source": [
        "print(numeros) # output: [1, 2, 3, 4, 5, 6]"
      ],
      "metadata": {
        "colab": {
          "base_uri": "https://localhost:8080/"
        },
        "id": "J9jLYeBja-km",
        "outputId": "a7b27ec5-b0c2-4658-8a13-3cb45d5c78c5"
      },
      "execution_count": 17,
      "outputs": [
        {
          "output_type": "stream",
          "name": "stdout",
          "text": [
            "[1, 2, 3, 4, 5, 6]\n"
          ]
        }
      ]
    },
    {
      "cell_type": "code",
      "source": [
        "# removendo elementos de uma lista\n",
        "numeros.remove(2)"
      ],
      "metadata": {
        "id": "3KTspKoCa-m8"
      },
      "execution_count": 18,
      "outputs": []
    },
    {
      "cell_type": "code",
      "source": [
        "print(numeros) # output: [1, 3, 4, 5, 6]"
      ],
      "metadata": {
        "colab": {
          "base_uri": "https://localhost:8080/"
        },
        "id": "qoQu2UQxa-pe",
        "outputId": "91cbefa5-5501-469f-f21a-0e44a3b855bd"
      },
      "execution_count": 19,
      "outputs": [
        {
          "output_type": "stream",
          "name": "stdout",
          "text": [
            "[1, 3, 4, 5, 6]\n"
          ]
        }
      ]
    },
    {
      "cell_type": "code",
      "source": [
        "''' Iteração: Você pode iterar sobre elementos de uma lista usando um laço for.'''"
      ],
      "metadata": {
        "id": "1gy0Jk3Za-rz"
      },
      "execution_count": null,
      "outputs": []
    },
    {
      "cell_type": "code",
      "source": [
        "# iterando sobre elementos de uma lista\n",
        "for numero in numeros: \n",
        "  print(numero)\n",
        "# output:\n",
        "# 1\n",
        "# 3\n",
        "# 4\n",
        "# 5\n",
        "# 6"
      ],
      "metadata": {
        "colab": {
          "base_uri": "https://localhost:8080/"
        },
        "id": "KozyJM27QpTk",
        "outputId": "91d11373-160e-470e-a258-f129f75c1aa5"
      },
      "execution_count": 21,
      "outputs": [
        {
          "output_type": "stream",
          "name": "stdout",
          "text": [
            "1\n",
            "3\n",
            "4\n",
            "5\n",
            "6\n"
          ]
        }
      ]
    },
    {
      "cell_type": "code",
      "source": [],
      "metadata": {
        "id": "WefAtCeuQpV2"
      },
      "execution_count": null,
      "outputs": []
    },
    {
      "cell_type": "code",
      "source": [
        "''' Armazenamento de dados: Os dicionários são usados para armazenar dados relacionados, como informações de contato de uma pessoa, preços de produtos, etc.'''"
      ],
      "metadata": {
        "id": "j2fuUgvPQpX-"
      },
      "execution_count": null,
      "outputs": []
    },
    {
      "cell_type": "code",
      "source": [
        "# criando um dicionário\n",
        "pessoa = {\"nome\": \"João\", \"idade\": 30, \"cidade\": \"São Paulo\"}"
      ],
      "metadata": {
        "id": "dl2qjmU1dKHt"
      },
      "execution_count": 22,
      "outputs": []
    },
    {
      "cell_type": "code",
      "source": [
        "# acessando um valor pelo sua chave\n",
        "print(pessoa[\"nome\"]) # output: João\n"
      ],
      "metadata": {
        "colab": {
          "base_uri": "https://localhost:8080/"
        },
        "id": "giu4aaI-dKKG",
        "outputId": "c2174ba8-93d6-4743-8395-1cc2b089643d"
      },
      "execution_count": 23,
      "outputs": [
        {
          "output_type": "stream",
          "name": "stdout",
          "text": [
            "João\n"
          ]
        }
      ]
    },
    {
      "cell_type": "code",
      "source": [
        "''' Adição e remoção de elementos: Você pode adicionar novos elementos a um dicionário atribuindo valores a novas chaves, ou alterar o valor de uma chave existente. Também é possível remover elementos de um dicionário usando o método pop().'''"
      ],
      "metadata": {
        "id": "1rGdhP1ydKM1"
      },
      "execution_count": null,
      "outputs": []
    },
    {
      "cell_type": "code",
      "source": [
        "# adicionando elementos ao dicionário\n",
        "pessoa[\"telefone\"] = \"1234-5678\"\n",
        "print(pessoa) # output: {'nome': 'João', 'idade': 30, 'cidade': 'São Paulo', 'telefone': '1234-5678'}"
      ],
      "metadata": {
        "colab": {
          "base_uri": "https://localhost:8080/"
        },
        "id": "owcr48AXdKPJ",
        "outputId": "4c90c702-2bda-4ccf-a7f1-ecd34ac0a2b2"
      },
      "execution_count": 24,
      "outputs": [
        {
          "output_type": "stream",
          "name": "stdout",
          "text": [
            "{'nome': 'João', 'idade': 30, 'cidade': 'São Paulo', 'telefone': '1234-5678'}\n"
          ]
        }
      ]
    },
    {
      "cell_type": "code",
      "source": [
        "# removendo elementos de um dicionário\n",
        "pessoa.pop(\"idade\")\n",
        "print(pessoa) # output: {'nome': 'João', 'cidade': 'São Paulo', 'telefone': '1234-5678'}"
      ],
      "metadata": {
        "colab": {
          "base_uri": "https://localhost:8080/"
        },
        "id": "6dn-Ij-WdKRN",
        "outputId": "de876445-4cd5-4da2-a0f7-a07fc236f641"
      },
      "execution_count": 25,
      "outputs": [
        {
          "output_type": "stream",
          "name": "stdout",
          "text": [
            "{'nome': 'João', 'cidade': 'São Paulo', 'telefone': '1234-5678'}\n"
          ]
        }
      ]
    },
    {
      "cell_type": "code",
      "source": [
        "''' Iteração: Você pode iterar sobre as chaves ou valores de um dicionário usando os métodos keys() e values()'''"
      ],
      "metadata": {
        "id": "sp1Yy4G1dKTr"
      },
      "execution_count": null,
      "outputs": []
    },
    {
      "cell_type": "code",
      "source": [
        "# iterando sobre as chaves de um dicionário\n",
        "for chave in pessoa.keys():\n",
        "  print(chave)\n",
        "# output:\n",
        "# nome\n",
        "# cidade\n",
        "# telefone"
      ],
      "metadata": {
        "colab": {
          "base_uri": "https://localhost:8080/"
        },
        "id": "77iHMUEpdKWm",
        "outputId": "2b133b62-061d-400d-f963-dc51ea948474"
      },
      "execution_count": 27,
      "outputs": [
        {
          "output_type": "stream",
          "name": "stdout",
          "text": [
            "nome\n",
            "cidade\n",
            "telefone\n"
          ]
        }
      ]
    },
    {
      "cell_type": "code",
      "source": [
        "# iterando sobre os valores de um dicionário"
      ],
      "metadata": {
        "id": "R5ADjOeVdKZw"
      },
      "execution_count": null,
      "outputs": []
    },
    {
      "cell_type": "code",
      "source": [
        "for valor in pessoa.values():\n",
        "    print(valor)\n",
        "    # output:\n",
        "# João\n",
        "# São Paulo\n",
        "# 1234-5678"
      ],
      "metadata": {
        "colab": {
          "base_uri": "https://localhost:8080/"
        },
        "id": "gR-RFvx8dKcT",
        "outputId": "b9a9262d-d952-44ca-b711-5472c66c59d6"
      },
      "execution_count": 28,
      "outputs": [
        {
          "output_type": "stream",
          "name": "stdout",
          "text": [
            "João\n",
            "São Paulo\n",
            "1234-5678\n"
          ]
        }
      ]
    },
    {
      "cell_type": "code",
      "source": [],
      "metadata": {
        "id": "UkR-_ASJdKe-"
      },
      "execution_count": null,
      "outputs": []
    },
    {
      "cell_type": "code",
      "source": [],
      "metadata": {
        "id": "zzqiwGXSdKhY"
      },
      "execution_count": null,
      "outputs": []
    },
    {
      "cell_type": "code",
      "source": [],
      "metadata": {
        "id": "f_6kppHldKjk"
      },
      "execution_count": null,
      "outputs": []
    },
    {
      "cell_type": "code",
      "source": [],
      "metadata": {
        "id": "pDyp1bSJdKmV"
      },
      "execution_count": null,
      "outputs": []
    },
    {
      "cell_type": "code",
      "source": [],
      "metadata": {
        "id": "q05QpMN3dKo7"
      },
      "execution_count": null,
      "outputs": []
    },
    {
      "cell_type": "code",
      "source": [],
      "metadata": {
        "id": "6Rn7ooYddKrS"
      },
      "execution_count": null,
      "outputs": []
    },
    {
      "cell_type": "code",
      "source": [],
      "metadata": {
        "id": "Koz7jl_idKtu"
      },
      "execution_count": null,
      "outputs": []
    },
    {
      "cell_type": "code",
      "source": [],
      "metadata": {
        "id": "tCoV50eNdKwI"
      },
      "execution_count": null,
      "outputs": []
    },
    {
      "cell_type": "code",
      "source": [],
      "metadata": {
        "id": "Arnu55STdKzA"
      },
      "execution_count": null,
      "outputs": []
    },
    {
      "cell_type": "code",
      "source": [],
      "metadata": {
        "id": "vYB65foxdK1a"
      },
      "execution_count": null,
      "outputs": []
    },
    {
      "cell_type": "code",
      "source": [],
      "metadata": {
        "id": "A5zpQFgodK34"
      },
      "execution_count": null,
      "outputs": []
    },
    {
      "cell_type": "code",
      "source": [],
      "metadata": {
        "id": "ydQoZSOKdK6Y"
      },
      "execution_count": null,
      "outputs": []
    },
    {
      "cell_type": "code",
      "source": [],
      "metadata": {
        "id": "l7H0mzZDdK9D"
      },
      "execution_count": null,
      "outputs": []
    },
    {
      "cell_type": "markdown",
      "source": [],
      "metadata": {
        "id": "A6U9sWMLdE8H"
      }
    },
    {
      "cell_type": "code",
      "source": [],
      "metadata": {
        "id": "vespnzHYQpaf"
      },
      "execution_count": null,
      "outputs": []
    }
  ]
}